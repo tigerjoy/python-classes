{
 "cells": [
  {
   "cell_type": "code",
   "execution_count": 1,
   "metadata": {},
   "outputs": [
    {
     "name": "stdout",
     "output_type": "stream",
     "text": [
      "Enter a function in x: (x ** 2) + 1\n"
     ]
    }
   ],
   "source": [
    "function = input(\"Enter a function in x: \")"
   ]
  },
  {
   "cell_type": "code",
   "execution_count": 2,
   "metadata": {},
   "outputs": [
    {
     "data": {
      "text/plain": [
       "'(x ** 2) + 1'"
      ]
     },
     "execution_count": 2,
     "metadata": {},
     "output_type": "execute_result"
    }
   ],
   "source": [
    "function"
   ]
  },
  {
   "cell_type": "code",
   "execution_count": 3,
   "metadata": {},
   "outputs": [
    {
     "data": {
      "text/plain": [
       "['__add__',\n",
       " '__class__',\n",
       " '__contains__',\n",
       " '__delattr__',\n",
       " '__dir__',\n",
       " '__doc__',\n",
       " '__eq__',\n",
       " '__format__',\n",
       " '__ge__',\n",
       " '__getattribute__',\n",
       " '__getitem__',\n",
       " '__getnewargs__',\n",
       " '__gt__',\n",
       " '__hash__',\n",
       " '__init__',\n",
       " '__init_subclass__',\n",
       " '__iter__',\n",
       " '__le__',\n",
       " '__len__',\n",
       " '__lt__',\n",
       " '__mod__',\n",
       " '__mul__',\n",
       " '__ne__',\n",
       " '__new__',\n",
       " '__reduce__',\n",
       " '__reduce_ex__',\n",
       " '__repr__',\n",
       " '__rmod__',\n",
       " '__rmul__',\n",
       " '__setattr__',\n",
       " '__sizeof__',\n",
       " '__str__',\n",
       " '__subclasshook__',\n",
       " 'capitalize',\n",
       " 'casefold',\n",
       " 'center',\n",
       " 'count',\n",
       " 'encode',\n",
       " 'endswith',\n",
       " 'expandtabs',\n",
       " 'find',\n",
       " 'format',\n",
       " 'format_map',\n",
       " 'index',\n",
       " 'isalnum',\n",
       " 'isalpha',\n",
       " 'isdecimal',\n",
       " 'isdigit',\n",
       " 'isidentifier',\n",
       " 'islower',\n",
       " 'isnumeric',\n",
       " 'isprintable',\n",
       " 'isspace',\n",
       " 'istitle',\n",
       " 'isupper',\n",
       " 'join',\n",
       " 'ljust',\n",
       " 'lower',\n",
       " 'lstrip',\n",
       " 'maketrans',\n",
       " 'partition',\n",
       " 'replace',\n",
       " 'rfind',\n",
       " 'rindex',\n",
       " 'rjust',\n",
       " 'rpartition',\n",
       " 'rsplit',\n",
       " 'rstrip',\n",
       " 'split',\n",
       " 'splitlines',\n",
       " 'startswith',\n",
       " 'strip',\n",
       " 'swapcase',\n",
       " 'title',\n",
       " 'translate',\n",
       " 'upper',\n",
       " 'zfill']"
      ]
     },
     "execution_count": 3,
     "metadata": {},
     "output_type": "execute_result"
    }
   ],
   "source": [
    "dir(str)"
   ]
  },
  {
   "cell_type": "code",
   "execution_count": 4,
   "metadata": {},
   "outputs": [
    {
     "name": "stdout",
     "output_type": "stream",
     "text": [
      "Help on method_descriptor:\n",
      "\n",
      "replace(...)\n",
      "    S.replace(old, new[, count]) -> str\n",
      "    \n",
      "    Return a copy of S with all occurrences of substring\n",
      "    old replaced by new.  If the optional argument count is\n",
      "    given, only the first count occurrences are replaced.\n",
      "\n"
     ]
    }
   ],
   "source": [
    "help(str.replace)"
   ]
  },
  {
   "cell_type": "code",
   "execution_count": 5,
   "metadata": {},
   "outputs": [
    {
     "data": {
      "text/plain": [
       "'(x ** 2) + 1'"
      ]
     },
     "execution_count": 5,
     "metadata": {},
     "output_type": "execute_result"
    }
   ],
   "source": [
    "function"
   ]
  },
  {
   "cell_type": "code",
   "execution_count": 6,
   "metadata": {},
   "outputs": [
    {
     "ename": "TypeError",
     "evalue": "replace() argument 2 must be str, not int",
     "output_type": "error",
     "traceback": [
      "\u001b[1;31m---------------------------------------------------------------------------\u001b[0m",
      "\u001b[1;31mTypeError\u001b[0m                                 Traceback (most recent call last)",
      "\u001b[1;32m<ipython-input-6-ea98f391ad82>\u001b[0m in \u001b[0;36m<module>\u001b[1;34m()\u001b[0m\n\u001b[1;32m----> 1\u001b[1;33m \u001b[0mfunction\u001b[0m\u001b[1;33m.\u001b[0m\u001b[0mreplace\u001b[0m\u001b[1;33m(\u001b[0m\u001b[1;34m'x'\u001b[0m\u001b[1;33m,\u001b[0m \u001b[1;36m2\u001b[0m\u001b[1;33m)\u001b[0m\u001b[1;33m\u001b[0m\u001b[0m\n\u001b[0m",
      "\u001b[1;31mTypeError\u001b[0m: replace() argument 2 must be str, not int"
     ]
    }
   ],
   "source": [
    "function.replace('x', 2)"
   ]
  },
  {
   "cell_type": "code",
   "execution_count": 9,
   "metadata": {},
   "outputs": [],
   "source": [
    "function_at_2 = function.replace('x', str(2))"
   ]
  },
  {
   "cell_type": "code",
   "execution_count": 10,
   "metadata": {},
   "outputs": [
    {
     "data": {
      "text/plain": [
       "5"
      ]
     },
     "execution_count": 10,
     "metadata": {},
     "output_type": "execute_result"
    }
   ],
   "source": [
    "eval(function_at_2)"
   ]
  },
  {
   "cell_type": "code",
   "execution_count": 11,
   "metadata": {},
   "outputs": [
    {
     "data": {
      "text/plain": [
       "5"
      ]
     },
     "execution_count": 11,
     "metadata": {},
     "output_type": "execute_result"
    }
   ],
   "source": [
    "2 ** 2 + 1"
   ]
  },
  {
   "cell_type": "code",
   "execution_count": 12,
   "metadata": {},
   "outputs": [],
   "source": [
    "# WAP to accept a function in variable x\n",
    "# and print the corresponsing x and y values\n",
    "# in range 0 to 10\n",
    "# x: <val> y: <val>"
   ]
  },
  {
   "cell_type": "code",
   "execution_count": 18,
   "metadata": {},
   "outputs": [
    {
     "name": "stdout",
     "output_type": "stream",
     "text": [
      "Enter a function in x: sin(x)\n",
      "x:  0 y: 0.0\n",
      "x:  5 y: 0.08715574274765817\n",
      "x:  10 y: 0.17364817766693033\n",
      "x:  15 y: 0.25881904510252074\n",
      "x:  20 y: 0.3420201433256687\n",
      "x:  25 y: 0.42261826174069944\n",
      "x:  30 y: 0.49999999999999994\n",
      "x:  35 y: 0.573576436351046\n",
      "x:  40 y: 0.6427876096865393\n",
      "x:  45 y: 0.7071067811865476\n",
      "x:  50 y: 0.766044443118978\n",
      "x:  55 y: 0.8191520442889918\n",
      "x:  60 y: 0.8660254037844386\n",
      "x:  65 y: 0.9063077870366499\n",
      "x:  70 y: 0.9396926207859083\n",
      "x:  75 y: 0.9659258262890683\n",
      "x:  80 y: 0.984807753012208\n",
      "x:  85 y: 0.9961946980917455\n",
      "x:  90 y: 1.0\n"
     ]
    }
   ],
   "source": [
    "from math import *\n",
    "\n",
    "function = input(\"Enter a function in x: \")\n",
    "\n",
    "for x in range(0, 91, 5):\n",
    "    func_at_x = function.replace('x', str(radians(x)))\n",
    "    print(\"x: \", x, \"y:\", eval(func_at_x))"
   ]
  },
  {
   "cell_type": "code",
   "execution_count": 17,
   "metadata": {},
   "outputs": [
    {
     "name": "stdout",
     "output_type": "stream",
     "text": [
      "Help on built-in function radians in module math:\n",
      "\n",
      "radians(...)\n",
      "    radians(x)\n",
      "    \n",
      "    Convert angle x from degrees to radians.\n",
      "\n"
     ]
    }
   ],
   "source": [
    "help(radians)"
   ]
  },
  {
   "cell_type": "code",
   "execution_count": 20,
   "metadata": {},
   "outputs": [
    {
     "name": "stdout",
     "output_type": "stream",
     "text": [
      "Enter a function in x: sin(x)\n",
      "x: 0 y: 0.00\n",
      "x: 5 y: 0.09\n",
      "x: 10 y: 0.17\n",
      "x: 15 y: 0.26\n",
      "x: 20 y: 0.34\n",
      "x: 25 y: 0.42\n",
      "x: 30 y: 0.50\n",
      "x: 35 y: 0.57\n",
      "x: 40 y: 0.64\n",
      "x: 45 y: 0.71\n",
      "x: 50 y: 0.77\n",
      "x: 55 y: 0.82\n",
      "x: 60 y: 0.87\n",
      "x: 65 y: 0.91\n",
      "x: 70 y: 0.94\n",
      "x: 75 y: 0.97\n",
      "x: 80 y: 0.98\n",
      "x: 85 y: 1.00\n",
      "x: 90 y: 1.00\n"
     ]
    }
   ],
   "source": [
    "from math import *\n",
    "\n",
    "function = input(\"Enter a function in x: \")\n",
    "\n",
    "for x in range(0, 91, 5):\n",
    "    func_at_x = function.replace('x', str(radians(x)))\n",
    "    print(\"x: {} y: {:.2f}\".format(x, eval(func_at_x)))"
   ]
  },
  {
   "cell_type": "code",
   "execution_count": 24,
   "metadata": {},
   "outputs": [
    {
     "name": "stdout",
     "output_type": "stream",
     "text": [
      "Help on built-in function eval in module builtins:\n",
      "\n",
      "eval(source, globals=None, locals=None, /)\n",
      "    Evaluate the given source in the context of globals and locals.\n",
      "    \n",
      "    The source may be a string representing a Python expression\n",
      "    or a code object as returned by compile().\n",
      "    The globals must be a dictionary and locals can be any mapping,\n",
      "    defaulting to the current globals and locals.\n",
      "    If only globals is given, locals defaults to it.\n",
      "\n"
     ]
    }
   ],
   "source": [
    "help(eval)"
   ]
  },
  {
   "cell_type": "code",
   "execution_count": 2,
   "metadata": {},
   "outputs": [],
   "source": [
    "import time"
   ]
  },
  {
   "cell_type": "code",
   "execution_count": 6,
   "metadata": {},
   "outputs": [
    {
     "name": "stdout",
     "output_type": "stream",
     "text": [
      "Enter a number: 41234123534523\n",
      "Not Prime\n",
      "Duration:  00 mins 00 seconds\n"
     ]
    }
   ],
   "source": [
    "number = int(input(\"Enter a number: \"))\n",
    "\n",
    "start_time = time.time()\n",
    "end_time = None\n",
    "\n",
    "i = 2\n",
    "if number == 1:\n",
    "    print(\"Not prime\")\n",
    "else:\n",
    "    isPrime = True\n",
    "    while i <= (number // i):\n",
    "        if number % i == 0:\n",
    "            isPrime = False\n",
    "            break\n",
    "        i += 1\n",
    "    end_time = time.time()\n",
    "    if isPrime:\n",
    "        print(\"Prime\")\n",
    "    else:\n",
    "        print(\"Not Prime\")\n",
    "\n",
    "duration = end_time - start_time\n",
    "time_tuple = time.gmtime(duration)\n",
    "print(\"Duration: \", time.strftime(\"%M mins %S seconds\", \n",
    "                                  time_tuple))"
   ]
  },
  {
   "cell_type": "code",
   "execution_count": null,
   "metadata": {},
   "outputs": [
    {
     "name": "stdout",
     "output_type": "stream",
     "text": [
      "Enter a number: 41234123534523\n"
     ]
    }
   ],
   "source": [
    "number = int(input(\"Enter a number: \"))\n",
    "start_time = time.time()\n",
    "i = 1\n",
    "ctr = 0\n",
    "while i <= number:\n",
    "    if number % i == 0:\n",
    "        ctr += 1\n",
    "    i += 1\n",
    "if ctr == 2:\n",
    "    print(\"Prime\")\n",
    "else:\n",
    "    print(\"Not Prime\")\n",
    "end_time = time.time()\n",
    "duration = end_time - start_time\n",
    "time_tuple = time.gmtime(duration)\n",
    "print(\"Duration: \", time.strftime(\"%M mins %S seconds\", \n",
    "                                  time_tuple))"
   ]
  },
  {
   "cell_type": "code",
   "execution_count": null,
   "metadata": {},
   "outputs": [],
   "source": []
  }
 ],
 "metadata": {
  "kernelspec": {
   "display_name": "Python 3",
   "language": "python",
   "name": "python3"
  },
  "language_info": {
   "codemirror_mode": {
    "name": "ipython",
    "version": 3
   },
   "file_extension": ".py",
   "mimetype": "text/x-python",
   "name": "python",
   "nbconvert_exporter": "python",
   "pygments_lexer": "ipython3",
   "version": "3.6.5"
  }
 },
 "nbformat": 4,
 "nbformat_minor": 2
}
